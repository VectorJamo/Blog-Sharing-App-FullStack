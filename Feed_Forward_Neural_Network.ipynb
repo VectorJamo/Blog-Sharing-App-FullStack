{
  "nbformat": 4,
  "nbformat_minor": 0,
  "metadata": {
    "colab": {
      "provenance": [],
      "authorship_tag": "ABX9TyNxUUsWaCLHorAKbg+bVYiL",
      "include_colab_link": true
    },
    "kernelspec": {
      "name": "python3",
      "display_name": "Python 3"
    },
    "language_info": {
      "name": "python"
    }
  },
  "cells": [
    {
      "cell_type": "markdown",
      "metadata": {
        "id": "view-in-github",
        "colab_type": "text"
      },
      "source": [
        "<a href=\"https://colab.research.google.com/github/VectorJamo/Blog-Sharing-App-FullStack/blob/main/Feed_Forward_Neural_Network.ipynb\" target=\"_parent\"><img src=\"https://colab.research.google.com/assets/colab-badge.svg\" alt=\"Open In Colab\"/></a>"
      ]
    },
    {
      "cell_type": "code",
      "execution_count": 5,
      "metadata": {
        "id": "CKP6HBZrIkui"
      },
      "outputs": [],
      "source": [
        "# A basic(vanilla) form of a neural network. Contains an input layer, 2 hidden layers and an output layer.\n",
        "# The problem: Given 4 different input features of an Iris plant, determine its type (standard classification problem).\n",
        "# Where, the 4 features are: sepal length, sepal width, petal length, petal width\n",
        "# And, the types are: Iris Setosa, Iris Versicolour and Iris Virginica\n",
        "import torch\n",
        "import torch.nn as nn # The blueprint for a neural network\n",
        "import torch.nn.functional as F # For activation functions eg. sigmoid, relu etc."
      ]
    },
    {
      "cell_type": "code",
      "source": [
        "# Create the model\n",
        "class Model(nn.Module):\n",
        "  # Define the number of input features, neurons in the first hidden layer, neurons in the second hidden layer and the number of output features.\n",
        "  def __init__(self, in_features=4, h1=8, h2=9, out_features=3):\n",
        "    super().__init__()\n",
        "    # Define the layers. fc -> fully connected layer, each neuron in layer 'l' receives the output of all neurons\n",
        "    # from its previous layer 'l-1')\n",
        "    self.fc1 = nn.Linear(in_features, h1) # input layer - first hidden layer\n",
        "    self.fc2 = nn.Linear(h1, h2) # first hidden layer - second hidden layer\n",
        "    self.out = nn.Linear(h2, out_features) # second hidden layer - output layer\n",
        "    # nn.Linear basically means that each layer (and its each neuron) will perform a linear transformation to the input values to give an output\n",
        "    # The equation is a standard FFNN equation for a layer, which is given as y = W*x + b. Where y is the output from a layer (a vector of all the\n",
        "    # real number outputs of the neurons), W is the weight matrix(a particular row of the matrix will be applied to a particular neuron with its\n",
        "    # input vector) and b is the bias vector (a vector of real number bias for each neuron). The equation condenses a FFNN layer's operation.\n",
        "\n",
        "  def forward(self):\n",
        "    # Control how data flows (moves forward) through each layer\n",
        "    # Relu function is defined as if (x > 0) y = x else y = 0\n",
        "    # Take the input as pass it through fully connected layer 1(defined above)\n",
        "    x = F.relu(self.fc1(x))\n",
        "    # Then, take the output of fc1 and pass it through fc2\n",
        "    x = F.relu(self.fc2(x))\n",
        "    # Finally, take the output of fc2 and pass it through the output layer\n",
        "    x = self.out(x)\n",
        "\n",
        "    return x\n"
      ],
      "metadata": {
        "id": "UYFAsOv3JNh1"
      },
      "execution_count": 6,
      "outputs": []
    },
    {
      "cell_type": "code",
      "source": [],
      "metadata": {
        "id": "Jgkk-zhJSlGA"
      },
      "execution_count": null,
      "outputs": []
    }
  ]
}